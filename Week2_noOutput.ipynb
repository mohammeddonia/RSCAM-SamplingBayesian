{
 "cells": [
  {
   "cell_type": "markdown",
   "metadata": {},
   "source": [
    "# RSCAM Week 2 exercises\n",
    "\n",
    "## Lennard-Jones interatomic potential\n",
    "\n",
    "In this lab we shall explore how we can use symplectic methods to simulate small clusters of atoms in a vacuum. Key to this is the Lennard-Jones (LJ) potential energy function ( https://en.wikipedia.org/wiki/Lennard-Jones_potential ), which we shall write as \n",
    "\n",
    "$$ U_{LJ}(r) = \\frac{1}{r^{12}} - \\frac{1}{r^6}$$\n",
    "\n",
    "for interatomic distance $r>0$. This potential function can be parameterized in many different ways in order to more closely match real experiment, but we shall stick with the simple form above.\n",
    "\n",
    "We can plot the LJ function below."
   ]
  },
  {
   "cell_type": "code",
   "execution_count": null,
   "metadata": {},
   "outputs": [],
   "source": [
    "# If you're on the university machines then\n",
    "# in order to play the animations we will need to update the\n",
    "# matplotlib library. You only need to run this once.\n",
    "# Running it more times will cause an error\n",
    "#\n",
    "# If you're running this on your laptop or another machine\n",
    "# then you won't need to run this line.\n",
    "# \n",
    "\n",
    "!pip install --user matplotlib --upgrade"
   ]
  },
  {
   "cell_type": "code",
   "execution_count": null,
   "metadata": {},
   "outputs": [],
   "source": [
    "# Import libraries\n",
    "import numpy as np \n",
    "import matplotlib.pyplot as plt\n",
    "import matplotlib.animation as animation\n",
    "%matplotlib inline\n",
    "from IPython.display import HTML"
   ]
  },
  {
   "cell_type": "code",
   "execution_count": null,
   "metadata": {},
   "outputs": [],
   "source": [
    "# Define the function\n",
    "def U_LJ(r): \n",
    "    \n",
    "    # U_LJ(r) = r^-12 - r^-6\n",
    "    \n",
    "    potential = np.power(r,-12) - np.power(r,-6)\n",
    "    \n",
    "    return potential"
   ]
  },
  {
   "cell_type": "code",
   "execution_count": null,
   "metadata": {},
   "outputs": [],
   "source": [
    "# Plot the curve\n",
    "r_space = np.linspace(0.975,2.5,1000)\n",
    "\n",
    "plt.plot( r_space, U_LJ(r_space),linewidth=3 )\n",
    "plt.xlabel('Distance $r$')\n",
    "plt.ylabel('Potential energy $U_{LJ}(r)$')\n",
    "plt.title('Lennard-Jones potential')\n",
    "plt.show()"
   ]
  },
  {
   "cell_type": "markdown",
   "metadata": {},
   "source": [
    "We can see the potential has two main features:\n",
    "\n",
    "1. A steep rise in energy (a _wall_) as $r$ gets small, preventing particles from getting too close.\n",
    "2. An attractive part that pulls a particle inwards it, if it gets too far away. This attraction becomes less strong the further away it is.\n",
    "\n",
    "**[1] Compute (by hand) the value of $r>0$ that minimizes the potential energy, and define that number as min_lj below**\n"
   ]
  },
  {
   "cell_type": "code",
   "execution_count": null,
   "metadata": {},
   "outputs": [],
   "source": [
    "# After differentiation and equating to zero\n",
    "rmin = np.power(2,1/6)\n",
    "print(rmin)"
   ]
  },
  {
   "cell_type": "markdown",
   "metadata": {},
   "source": [
    "Just like in the spring example in Week 1, we think of the LJ potential as being an energy term between two atoms, where $r$ is the Euclidean distance between them. If we are in 2D with $q_i=[q_{i,x},q_{i,y}]\\in\\mathbb{R}^2$, then the energy term between particles 1 and 2 is $U_{LJ}(\\|q_1-q_2\\|)$, with\n",
    "\n",
    "$$\\|q_1-q_2\\| = \\sqrt{ (q_{1,x}-q_{2,x})^2 + (q_{1,y}-q_{2,y})^2 } $$ \n",
    "\n",
    "Thus the derivative of the potential energy with respect to, e.g. $q_{1,x}$ is (via chain rule)\n",
    "\n",
    "$$ \\frac{\\partial}{\\partial q_{1,x}} U_{LJ}(\\|q_1-q_2\\|) = U_{LJ}^\\prime(\\|q_1-q_2\\|) \\times \\frac{\\partial}{\\partial q_{1,x}}\\|q_1-q_2\\|$$.\n",
    "\n",
    "**[2] Complete the code below to define a function returning the energy and derivatives of the LJ function**"
   ]
  },
  {
   "cell_type": "code",
   "execution_count": null,
   "metadata": {},
   "outputs": [],
   "source": [
    "def derivatives_LJ(q1,q2):\n",
    "    \n",
    "    r = np.linalg.norm( q1-q2 )\n",
    "    \n",
    "    energy = U_LJ(r)\n",
    "    \n",
    "    # U(r) = r^-12 - r^-6\n",
    "    #\n",
    "    # U( f(q1,q2) ) = U'(r) * f_q1\n",
    "    #\n",
    "    \n",
    "    q1x = q1[0] \n",
    "    q1y = q1[1]\n",
    "    q2x = q2[0] \n",
    "    q2y = q2[1] \n",
    "    \n",
    "    dU_dr = -12*np.power(r,-13) + 6*np.power(r,-7)    # Done\n",
    "    \n",
    "    dnorm_dq1x = (q1x-q2x)/r \n",
    "    dnorm_dq1y = (q1y-q2y)/r  # Done  \n",
    "    dnorm_dq2x = -(q1x-q2x)/r  # Done \n",
    "    dnorm_dq2y = -(q1y-q2y)/r  # Done\n",
    "    \n",
    "    dulj_dq1x = dU_dr * dnorm_dq1x\n",
    "    dulj_dq1y = dU_dr * dnorm_dq1y\n",
    "    dulj_dq2x = dU_dr * dnorm_dq2x\n",
    "    dulj_dq2y = dU_dr * dnorm_dq2y\n",
    "    \n",
    "    return energy, dulj_dq1x, dulj_dq1y, dulj_dq2x, dulj_dq2y\n",
    "    "
   ]
  },
  {
   "cell_type": "markdown",
   "metadata": {},
   "source": [
    "You can check your routine is correct below:"
   ]
  },
  {
   "cell_type": "code",
   "execution_count": null,
   "metadata": {},
   "outputs": [],
   "source": [
    "# To check your code is correct:\n",
    "q1 = np.zeros(2)\n",
    "q2 = np.array([ 1 , 1.5  ])\n",
    "print( derivatives_LJ(q1,q2) )\n",
    "\n",
    "# This should return \n",
    "# (-0.02828203892053, -0.050646360295, -0.0759695404434, 0.05064636029, 0.0759695404434)"
   ]
  },
  {
   "cell_type": "markdown",
   "metadata": {},
   "source": [
    "Recall that Hamilton's equations are\n",
    "$$\\dot{q} = p$$\n",
    "$$\\dot{p} = -\\nabla U(q)$$\n",
    "with the $-\\nabla U(q)$ known as the _force_. Now that we know the partial derivatives, we can define a function to give us the force (as a vector) and energy, using the derivatives we programmed in:"
   ]
  },
  {
   "cell_type": "code",
   "execution_count": null,
   "metadata": {},
   "outputs": [],
   "source": [
    "def force_LJ(q1,q2):\n",
    "    \n",
    "    F1 = np.zeros_like(q1) \n",
    "    F2 = np.zeros_like(q2)\n",
    "    \n",
    "    energy, du_dq1x, du_dq1y, du_dq2x, du_dq2y = derivatives_LJ(q1,q2)\n",
    "    \n",
    "    F1[0] = -du_dq1x\n",
    "    F1[1] = -du_dq1y\n",
    "    F2[0] = -du_dq2x\n",
    "    F2[1] = -du_dq2y\n",
    "    \n",
    "    return energy, F1, F2 "
   ]
  },
  {
   "cell_type": "markdown",
   "metadata": {},
   "source": [
    "How does this relate to clusters?\n",
    "\n",
    "Let us consider the two dimensional _Lennard Jones Trimer_, which is three atoms bound together with a Lennard Jones potential. If the postion of the system is $q$, where $q = [q_{1,x},q_{1,y},q_{2,x},q_{2,y},q_{3,x},q_{3,y}]\\in\\mathbb{R}^6$ as usual, we define an LJ potential between each of them, so\n",
    "\n",
    "$$ U(q) = U_{LJ}(\\|q_1-q_2\\|) + U_{LJ}(\\|q_1-q_3\\|) + U_{LJ}(\\|q_2-q_3\\|)$$\n",
    "\n",
    "and as differentiation is linear, the forces are additive. So:\n",
    "\n",
    "$$-\\nabla U(q) = -\\nabla U_{LJ}(\\|q_1-q_2\\|) - \\nabla U_{LJ}(\\|q_1-q_3\\|) - \\nabla U_{LJ}(\\|q_2-q_3\\|)$$\n",
    "\n",
    "Thus the total force and energy comes from just adding together the terms we have just computed:"
   ]
  },
  {
   "cell_type": "code",
   "execution_count": null,
   "metadata": {},
   "outputs": [],
   "source": [
    "def total_force(q):\n",
    "    \n",
    "    # Get the coordinates\n",
    "    q1 = q[0:2]\n",
    "    q2 = q[2:4]\n",
    "    q3 = q[4:6]\n",
    "     \n",
    "    # Find the derivatives for the three terms\n",
    "    e12, f12, f21 = force_LJ(q1,q2)\n",
    "    e13, f13, f31 = force_LJ(q1,q3)\n",
    "    e23, f23, f32 = force_LJ(q2,q3)\n",
    "    \n",
    "    # Add 'em up\n",
    "    pe = e12 + e13 + e23 \n",
    "    f1 = f12 + f13 \n",
    "    f2 = f21 + f23 \n",
    "    f3 = f31 + f32 \n",
    "    \n",
    "    # the \"hstack\" function takes vectors and\n",
    "    # stacks them on top of one another, so here\n",
    "    # f is of length 6, like q and p.\n",
    "    f = np.hstack([f1, f2, f3]) \n",
    "    \n",
    "    # Return the values\n",
    "    return pe, f \n",
    "    "
   ]
  },
  {
   "cell_type": "markdown",
   "metadata": {},
   "source": [
    "Now we can define the position of our three particles and obtain the potential energy, and total force on the cluster. For example:"
   ]
  },
  {
   "cell_type": "code",
   "execution_count": null,
   "metadata": {},
   "outputs": [],
   "source": [
    "q1x = 0\n",
    "q1y = 0\n",
    "q2x = 1\n",
    "q2y = 0.5 \n",
    "q3x = 0.5 \n",
    "q3y = 1\n",
    "q = np.array([q1x, q1y, q2x, q2y, q3x, q3y])\n",
    "\n",
    "print( total_force(q) )"
   ]
  },
  {
   "cell_type": "markdown",
   "metadata": {},
   "source": [
    "The `total_force` function returns the energy, then the vector of the force across all components.\n",
    "\n",
    "**[3] Create a position vector `q0` that minimizes the total potential energy of the system and where the force is zero (up to machine precision).**\n",
    "\n",
    "**   The total energy of this point should be -0.75 (up to machine precision).**"
   ]
  },
  {
   "cell_type": "code",
   "execution_count": null,
   "metadata": {},
   "outputs": [],
   "source": [
    "# [!] Edit the coordinates below:\n",
    "q1x = 0\n",
    "q1y = 0\n",
    "q2x = rmin\n",
    "q2y = 0\n",
    "q3x = 0.5*rmin  \n",
    "q3y = np.sqrt(rmin**2-(0.5*rmin)**2)\n",
    "q0 = np.array([q1x,q1y,q2x,q2y,q3x,q3y])\n",
    "\n",
    "print( total_force(q0) )\n",
    "# This should print  (-0.75, array([0, 0, 0, 0, 0, 0]))\n",
    "# Though due to machine limitations, the values may be e.g. 10^-16 instead of exactly 0."
   ]
  },
  {
   "cell_type": "markdown",
   "metadata": {},
   "source": [
    "We can plot the points using matplotlib:"
   ]
  },
  {
   "cell_type": "code",
   "execution_count": null,
   "metadata": {},
   "outputs": [],
   "source": [
    "plt.scatter( q0[::2],q0[1::2],s=1000,c='rgb',edgecolor='k') \n",
    "plt.axis('equal')\n",
    "plt.show()"
   ]
  },
  {
   "cell_type": "markdown",
   "metadata": {},
   "source": [
    "We can simulate the dynamics using Euler's Method like in Week 1:\n"
   ]
  },
  {
   "cell_type": "code",
   "execution_count": null,
   "metadata": {},
   "outputs": [],
   "source": [
    "def Eulers_Method(q,p,h, force_function):\n",
    "    \n",
    "    # Compute the force\n",
    "    pe_old, f = force_function(q)\n",
    "    \n",
    "    # Do the update\n",
    "    qt = q + h * p \n",
    "    pt = p + h * f\n",
    "    \n",
    "    # Compute the new energies\n",
    "    pe, f_new = force_function(qt)\n",
    "    ke = np.sum( pt*pt) / 2 \n",
    "    \n",
    "    # Total energy is kinetic + potential\n",
    "    total_e = ke + pe \n",
    "    \n",
    "    # Return values \n",
    "    return qt, pt, total_e"
   ]
  },
  {
   "cell_type": "markdown",
   "metadata": {},
   "source": [
    "We have a `run_simulation` function that does the loop through time, taking initial conditions as input, as well as the number of steps and timestep. It also takes the function used to take a step in time, and the function used to create the force."
   ]
  },
  {
   "cell_type": "code",
   "execution_count": null,
   "metadata": {},
   "outputs": [],
   "source": [
    "def run_simulation(q0, p0, Nsteps, h, step_function, force_function):\n",
    "    \n",
    "    # Initialize the output trajectories\n",
    "    q_traj = [] \n",
    "    p_traj = [] \n",
    "    e_traj = [] \n",
    "    t_traj = []\n",
    "\n",
    "    # Set initial conditions\n",
    "    q = np.copy(q0)\n",
    "    p = np.copy(p0)\n",
    "    t = 0\n",
    "\n",
    "    # Main loop\n",
    "    for n in range(Nsteps):\n",
    "        \n",
    "        # Step in time\n",
    "        q,p,energy = step_function(q, p, h, force_function)\n",
    "        t = t + h \n",
    "\n",
    "        # Save the system's data\n",
    "        q_traj += [q] \n",
    "        p_traj += [p] \n",
    "        e_traj += [energy] \n",
    "        t_traj += [t] \n",
    "\n",
    "    # Format into numpy arrays\n",
    "    q_traj = np.array(q_traj)\n",
    "    p_traj = np.array(p_traj) \n",
    "\n",
    "    # Return the trajectories\n",
    "    return q_traj, p_traj, e_traj, t_traj"
   ]
  },
  {
   "cell_type": "markdown",
   "metadata": {},
   "source": [
    "Let's try running a simulation, with a timestep of `h=0.025` for a total time of `T=25`. We initialize our momentum to be a scaled normal random number."
   ]
  },
  {
   "cell_type": "code",
   "execution_count": null,
   "metadata": {},
   "outputs": [],
   "source": [
    "# Initialize momentum in R^6\n",
    "p0 = np.random.randn( 6 ) * 0.1 "
   ]
  },
  {
   "cell_type": "markdown",
   "metadata": {},
   "source": [
    "And then run the simulation"
   ]
  },
  {
   "cell_type": "code",
   "execution_count": null,
   "metadata": {},
   "outputs": [],
   "source": [
    "h = 0.025\n",
    "T = 25\n",
    "Nsteps = int(T/h)\n",
    "\n",
    "q_traj, p_traj, e_traj, t_traj = run_simulation(q0, p0, Nsteps, h, Eulers_Method, total_force)"
   ]
  },
  {
   "cell_type": "markdown",
   "metadata": {},
   "source": [
    "Once the simulation has run we can output the energy:"
   ]
  },
  {
   "cell_type": "code",
   "execution_count": null,
   "metadata": {},
   "outputs": [],
   "source": [
    "plt.plot( t_traj, e_traj )\n",
    "plt.xlabel('Time t')\n",
    "plt.ylabel('Total energy')\n",
    "plt.title('Energy growth using Eulers Method')\n",
    "plt.show()"
   ]
  },
  {
   "cell_type": "markdown",
   "metadata": {},
   "source": [
    "As expected, the energy has grown over the course of the simulation. We can animate the trajectory in a rudimentary way using something like this:"
   ]
  },
  {
   "cell_type": "code",
   "execution_count": null,
   "metadata": {},
   "outputs": [],
   "source": [
    "def animate_trajectory(q_traj,skip=10,time_interval=50,colors='rgb'):\n",
    "    # There are lots of ways to animate things in Python. This is \n",
    "    # a simple way of doing it.\n",
    "    #\n",
    "    # skip :: How many frames to skip\n",
    "    # time_interval :: The time in ms between frames\n",
    "    # colors :: A list of colours that we use for the particles\n",
    "    \n",
    "    frames = []   \n",
    "    Nframes = int(len(q_traj)/skip) \n",
    "    \n",
    "    for n in range(Nframes): \n",
    "        qq = q_traj[n*skip,:] \n",
    "        frame = plt.scatter( qq[::2],qq[1::2],s=250,edgecolor='k',c=colors)    \n",
    "\n",
    "        frames.append( (frame,) )\n",
    "    im_ani = animation.ArtistAnimation(plt.gcf(),frames,interval=time_interval);\n",
    "    plt.close()\n",
    "    return im_ani"
   ]
  },
  {
   "cell_type": "code",
   "execution_count": null,
   "metadata": {},
   "outputs": [],
   "source": [
    "# Create the animation\n",
    "ani = animate_trajectory( q_traj)\n",
    "# Display it in the notebook (as long as matplotlib is updated)\n",
    "HTML(ani.to_jshtml())"
   ]
  },
  {
   "cell_type": "markdown",
   "metadata": {},
   "source": [
    "The cluster gains energy until it breaks itself apart. We can reduce `h` to decrease the energy drift, but this will increase the number of required steps to reach `T` (and therefore increasing the time we have to wait for it to complete).\n",
    "\n",
    "An alternative is to use _symplectic_ methods.\n",
    "\n",
    "The symplectic Verlet or (Stormer) scheme is given as\n",
    "$$ \\left| \\begin{array}{rcl} \n",
    "p(t+h/2)&\\leftarrow&p(t) + (h/2)\\, f( q(t) )\\\\\n",
    "\\qquad q(t+h)&\\leftarrow&q(t) + h\\, p(t+h/2)\\\\\n",
    "p(t+h)&\\leftarrow&p(t+h/2) + (h/2)\\, f( q(t+h) )\\\\\n",
    "\\end{array}\\right.$$\n"
   ]
  },
  {
   "cell_type": "markdown",
   "metadata": {},
   "source": [
    "**[4] Code the Verlet method and run a simulation using the same `q0`,`p0`, `h` and `T` values as you used for Euler Method above. Make a plot of the resulting energy, and (if you wish) animate the trajectory of the cluster.**"
   ]
  },
  {
   "cell_type": "code",
   "execution_count": null,
   "metadata": {},
   "outputs": [],
   "source": [
    "def Verlet(q,p,h, force_function):\n",
    "    \n",
    "    # [!] Your code here\n",
    "    pe, f = force_function(q)\n",
    "    \n",
    "    pt = p + (h/2)*f\n",
    "    qt = q + h*pt\n",
    "    \n",
    "    pe, f = force_function(qt)\n",
    "    pt = pt + (h/2)*f\n",
    "    \n",
    "    ke = np.sum( pt*pt) / 2\n",
    "    \n",
    "    total_e = pe + ke\n",
    "    # Return values \n",
    "    return qt, pt, total_e\n",
    "    \n",
    "    "
   ]
  },
  {
   "cell_type": "code",
   "execution_count": null,
   "metadata": {},
   "outputs": [],
   "source": [
    "h = 0.025\n",
    "T = 25\n",
    "Nsteps = int(T/h)\n",
    "\n",
    "q_traj, p_traj, e_traj, t_traj = run_simulation(q0, p0, Nsteps, h, Verlet, total_force)"
   ]
  },
  {
   "cell_type": "code",
   "execution_count": null,
   "metadata": {},
   "outputs": [],
   "source": [
    "plt.plot( t_traj, e_traj )\n",
    "plt.xlabel('Time t')\n",
    "plt.ylabel('Total energy')\n",
    "plt.title('Energy growth using Verlet Method')\n",
    "plt.show()"
   ]
  },
  {
   "cell_type": "code",
   "execution_count": null,
   "metadata": {},
   "outputs": [],
   "source": [
    "# Create the animation\n",
    "ani = animate_trajectory( q_traj)\n",
    "# Display it in the notebook (as long as matplotlib is updated)\n",
    "HTML(ani.to_jshtml())"
   ]
  },
  {
   "cell_type": "markdown",
   "metadata": {},
   "source": [
    "You should see the cluster drift or rotate, but stay together as a whole. This is very different from the Euler scheme, even though the initial conditions are exactly the same! (**Optional: Change `p0` to remove linear drift and rotation from the system**).\n",
    "\n",
    "This is closer to the true dynamics, because the total energy does not drift like in the Euler method."
   ]
  },
  {
   "cell_type": "markdown",
   "metadata": {},
   "source": [
    "***"
   ]
  },
  {
   "cell_type": "markdown",
   "metadata": {},
   "source": [
    "## The basin-hopping problem\n",
    "\n",
    "Consider a particular initial condition for the LJ trimer:\n",
    "\n",
    "$$q_1 = \\left[\\begin{array}{c} a\\\\-b/3 \\end{array}\\right], \\quad q_2 = \\left[\\begin{array}{c} -a\\\\-b/3 \\end{array}\\right], \\quad q_3 = \\left[\\begin{array}{c} 0\\\\+2b/3 \\end{array}\\right],$$\n",
    "\n",
    "for choices of $a$ and $b$. This gives us three particles positioned in an isosceles triangle, and because of the choice of potential the particles should stay in an isosceles formation (**optional: check this!**)."
   ]
  },
  {
   "cell_type": "markdown",
   "metadata": {},
   "source": [
    "**[5] Create a function `create_q0` which takes $a$ and $b$ as input, and outputs the full initial condition $q(a,b)=[q_1(a,b),q_2(a,b),q_3(a,b)]\\in\\mathbb{R}^6$.**"
   ]
  },
  {
   "cell_type": "code",
   "execution_count": null,
   "metadata": {},
   "outputs": [],
   "source": [
    "def create_q0(a,b):\n",
    "    \n",
    "    # [!] Your code here\n",
    "    q1 = np.array([a, -b/3])\n",
    "    q2 = np.array([-a, -b/3])\n",
    "    q3 = np.array([0, 2*b/3])\n",
    "    q0 = np.hstack([q1,q2,q3])\n",
    "    return q0\n",
    "\n",
    "# As a test\n",
    "# create_q0(.8,1.1) should output\n",
    "#\n",
    "# array([ 0.8   , -0.36666667, -0.8 , -0.36666667,  0.  ,0.73333333])\n",
    "create_q0(.8,1.1)"
   ]
  },
  {
   "cell_type": "markdown",
   "metadata": {},
   "source": [
    "We can run simulations of the trimer using the initial condition generated from the choice of an $a$ and $b$.\n",
    "\n",
    "**[6] Find an **$a$** and **$b$** value with **$ 0.5\\leq a\\leq 0.8 $** and **$ 0.5\\leq b\\leq 1.5 $** such that **$q_{1,y}$** flips sign more than three times, when simulated using `h=0.025` and `T=50` with zero initial momentum in the Verlet method. (You may wish to animate this to see what's happening.)**\n",
    "\n",
    "** You should be able to do find this using trial and error, but you may of course automate the search if you wish. As a starting point, you should see that for **$(a,b)=(0.75,1)$** there are only two sign flips.**"
   ]
  },
  {
   "cell_type": "code",
   "execution_count": null,
   "metadata": {},
   "outputs": [],
   "source": [
    "a = 0.7\n",
    "b = 1.4\n",
    "q0 = create_q0(a,b)\n",
    "p0 = np.random.randn( 6 ) * 0\n",
    "\n",
    "h = 0.025\n",
    "T = 50\n",
    "Nsteps = int(T/h)\n",
    "\n",
    "q_traj, p_traj, e_traj, t_traj = run_simulation(q0, p0, Nsteps, h, Verlet, total_force)\n",
    "\n",
    "# Create the animation\n",
    "ani = animate_trajectory( q_traj)\n",
    "# Display it in the notebook (as long as matplotlib is updated)\n",
    "HTML(ani.to_jshtml())"
   ]
  },
  {
   "cell_type": "markdown",
   "metadata": {},
   "source": [
    "To try to understand this system we can look at the energy landscape of positions as we change $a$ and $b$.\n",
    "\n",
    "**[7] Make a plot of the potential energy **$U(q(a,b))$** on the domain **$a\\in[0.4,1.5],\\,\\,b\\in[-2,2]$**.**\n",
    "\n",
    "**There are many ways to do this. One way is to build an **$N\\times N$** matrix **$Z$**, with **$Z_{ij} = U(q(A_i,B_j))$** where **$A$** and **$B$** are vectors spanning the domains. You can use the `pcolor` or `imshow` routines to plot the values in this matrix. Alternatively you may wish to plot this in 3D.**\n",
    "\n",
    "If you change the plot so that you focus on values for $U(q)\\in[-0.75,0]$ you should see a crescent-shape with two distinct stationary points."
   ]
  },
  {
   "cell_type": "code",
   "execution_count": null,
   "metadata": {},
   "outputs": [],
   "source": [
    "N=100\n",
    "A = np.linspace(0.4,1.5,N)\n",
    "B = np.linspace(-2,2,N)\n",
    "\n",
    "# initialize iterator and matrix\n",
    "row = 0\n",
    "Z = np.zeros((N,N))\n",
    "\n",
    "# calculate potential energy for combination of a and b\n",
    "for each_a in A:\n",
    "    column = 0\n",
    "    for each_b in B:\n",
    "        q0 = create_q0(each_a,each_b)\n",
    "        pe,f = total_force(q0)\n",
    "        Z[row,column] = pe\n",
    "        column = column+1\n",
    "    row = row+1"
   ]
  },
  {
   "cell_type": "code",
   "execution_count": null,
   "metadata": {},
   "outputs": [],
   "source": [
    "# creating a new Z for a clear plot of the energy in the range [-0.75,0]\n",
    "new_Z = np.zeros((N,N))\n",
    "for row in range(N):\n",
    "    for column in range(N):\n",
    "        if Z[row,column]>=-.075 and Z[row,column]<=0:\n",
    "            new_Z[row,column] = Z[row,column]\n",
    "        else:\n",
    "            new_Z[row,column] = 0\n",
    "plt.pcolor(A,B,new_Z)\n",
    "#plot trajectory\n",
    "plt.plot(q_traj[:,0],q_traj[:,1]*-3)\n",
    "plt.show()"
   ]
  },
  {
   "cell_type": "markdown",
   "metadata": {},
   "source": [
    "**[8] On your plot, plot a contour line at the value of initial potential energy you found in Q6. Additionally plot the \n",
    "trajectory for Q6 on this plot (in a and b coordinates, so **$a=q_{1,x},\\, b=-3q_{1,y}$**). You should see it fills in the curve.**"
   ]
  },
  {
   "cell_type": "code",
   "execution_count": null,
   "metadata": {},
   "outputs": [],
   "source": []
  },
  {
   "cell_type": "markdown",
   "metadata": {},
   "source": [
    "As the kinetic energy is initially zero, the maximum potential energy available to the system is set by the initial condition. Thus the system can explore the parts of the system inside the contour, but the space outside the contour is too high energy for the system to access.\n",
    "\n",
    "As you change the initial energy levels of the system we can see that some parts of the space become inaccessable as a large amount of energy is required to pass between them. This is exactly what we can see in physics where we are in one stable configuration, but require an additional _activation energy_ to overcome an energy barrier and move to a new configuration."
   ]
  },
  {
   "cell_type": "code",
   "execution_count": null,
   "metadata": {},
   "outputs": [],
   "source": []
  },
  {
   "cell_type": "markdown",
   "metadata": {},
   "source": [
    "###### Optional\n",
    "\n",
    "- Its worth noting that you can save your movies as gifs or mp4s using the asociated save functions.\n",
    "\n",
    "- Combine Q6 and Q7 to make a plot showing the number of sign flips you observe as you vary the initial conditions $a$ and $b$ on some domain.\n",
    "\n",
    "-  A common test system used for many numerical algorithms is the Lennard-Jones 7 cluster. Adapt the code above to include seven particles, instead of just three. The potential energy function for a Lennard Jones cluster of size $N$ is just\n",
    "$$ U(q) = \\sum_{i=1}^N \\sum_{i>j}^N U_{LJ}(\\|q_i-q_j\\|) $$\n",
    "There are four distinct minimum configurations for this system. The particles should re-arrange themselves into these minima if you initialize them with enough energy.\n",
    "\n",
    "- A simple model for water is to use the LJ trimer with a spring potential (exactly as we did in week 1) connecting particle 1 to 2, and particle 2 to 3, with rest length set to $\\sqrt[6]{2}$. In addition, a potential is added that keeps the angle $\\theta$ close to some value. We can use something like \n",
    "$$ V_{angle}(\\theta) = (\\theta-\\pi/2)^2$$\n",
    "to keep the angle close to $\\pi/2$. We can get the angle $\\theta$ between particles 1-2 and 2-3 by using \n",
    "$$\\theta = \\text{arccos}( (q_1-q_2)\\cdot(q_2-q_3)/\\|q_1-q_2\\|\\|q_2-q_3\\| )$$\n",
    "and then we can get the forces by using chain rule. \n",
    "Simulate a water molecule by adding spring potentials and this angle potential. \n",
    "\n",
    "- Its worth noting that though the Verlet scheme does give roughly constant energy preservation, it does give some wiggles in the energy. Find an initial energy choice such that there should be no sign flips in the trimer (check your result for Q8), but when simulating with a sufficiently large $h$ the random energy spikes in Verlet allow a barrier crossing without the cluster breaking apart.\n",
    "\n"
   ]
  },
  {
   "cell_type": "code",
   "execution_count": null,
   "metadata": {},
   "outputs": [],
   "source": []
  }
 ],
 "metadata": {
  "kernelspec": {
   "display_name": "Python 3",
   "language": "python",
   "name": "python3"
  },
  "language_info": {
   "codemirror_mode": {
    "name": "ipython",
    "version": 3
   },
   "file_extension": ".py",
   "mimetype": "text/x-python",
   "name": "python",
   "nbconvert_exporter": "python",
   "pygments_lexer": "ipython3",
   "version": "3.6.5"
  }
 },
 "nbformat": 4,
 "nbformat_minor": 2
}
